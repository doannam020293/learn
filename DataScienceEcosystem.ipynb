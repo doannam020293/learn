{
  "cells": [
    {
      "cell_type": "markdown",
      "metadata": {
        "id": "UbaOgmmLEsl9"
      },
      "source": [
        "#### Add your code below following the instructions given in the course\n"
      ]
    },
    {
      "cell_type": "markdown",
      "metadata": {
        "id": "wkjtdhUQEsl9"
      },
      "source": [
        "# Data Science Tools"
      ]
    },
    {
      "cell_type": "markdown",
      "metadata": {
        "id": "25PdYp8pEsl9"
      },
      "source": [
        "In this notebook, Data Science Tools and Ecosystem are summarized"
      ]
    },
    {
      "cell_type": "markdown",
      "metadata": {
        "id": "dWURnrGnEsl9"
      },
      "source": [
        "**Objectives**\n",
        "- List popular languages for data science\n",
        "- List commonly used libraries by Data Scientists\n",
        "- List commonly used Data Science tools\n",
        "- Evaluate arithmetic expressions in Python"
      ]
    },
    {
      "cell_type": "markdown",
      "metadata": {
        "id": "7SVV5rIpEsl9"
      },
      "source": [
        "popular languages that Data Scientists use are:\n",
        "1. Python\n",
        "2. R\n",
        "3. Scala"
      ]
    },
    {
      "cell_type": "markdown",
      "metadata": {
        "id": "MlcgGp6PEsl9"
      },
      "source": [
        "Some of the commonly used libraries used by Data Scientists include:\n",
        "1. sklearn\n",
        "2. scipy\n",
        "3. xgboost\n",
        "4. pytorch"
      ]
    },
    {
      "cell_type": "markdown",
      "metadata": {
        "id": "PfwmEfsUEsl9"
      },
      "source": [
        "| DataScience Tools |\n",
        "| ----------- |\n",
        "| Jupyter Notebooks |\n",
        "| RStudio |\n",
        "| Pycharm |"
      ]
    },
    {
      "cell_type": "markdown",
      "metadata": {
        "id": "ZfIuapyeEsl9"
      },
      "source": [
        "### Below are a few examples of evaluating arithmetic expressions in Python"
      ]
    },
    {
      "cell_type": "code",
      "execution_count": 1,
      "metadata": {
        "id": "IxKn6SrvEsl9",
        "outputId": "8fe09f64-67ea-4c9c-ba9c-c4b489555158",
        "colab": {
          "base_uri": "https://localhost:8080/"
        }
      },
      "outputs": [
        {
          "output_type": "execute_result",
          "data": {
            "text/plain": [
              "25"
            ]
          },
          "metadata": {},
          "execution_count": 1
        }
      ],
      "source": [
        "# This a simple arithmetic expression to multiply then add integers\n",
        "(3*5)+10"
      ]
    },
    {
      "cell_type": "code",
      "execution_count": 2,
      "metadata": {
        "id": "SNxdckbVEsl-",
        "outputId": "ed5624d1-bef0-417e-cdf7-dbbb15e4b5d6",
        "colab": {
          "base_uri": "https://localhost:8080/"
        }
      },
      "outputs": [
        {
          "output_type": "execute_result",
          "data": {
            "text/plain": [
              "1.6666666666666667"
            ]
          },
          "metadata": {},
          "execution_count": 2
        }
      ],
      "source": [
        "# This will convert 100 seconds to minutes by divide by 60\n",
        "100/60"
      ]
    },
    {
      "cell_type": "markdown",
      "metadata": {
        "id": "akzpPXxyEsl-"
      },
      "source": [
        "## My name is"
      ]
    },
    {
      "cell_type": "markdown",
      "metadata": {
        "id": "1ftNXjofEsl-"
      },
      "source": [
        "Nam Doan"
      ]
    }
  ],
  "metadata": {
    "kernelspec": {
      "display_name": "Python 3 (ipykernel)",
      "language": "python",
      "name": "python3"
    },
    "language_info": {
      "codemirror_mode": {
        "name": "ipython",
        "version": 3
      },
      "file_extension": ".py",
      "mimetype": "text/x-python",
      "name": "python",
      "nbconvert_exporter": "python",
      "pygments_lexer": "ipython3",
      "version": "3.12.8"
    },
    "colab": {
      "provenance": []
    }
  },
  "nbformat": 4,
  "nbformat_minor": 0
}